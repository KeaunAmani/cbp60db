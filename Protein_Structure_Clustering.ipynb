{
  "nbformat": 4,
  "nbformat_minor": 0,
  "metadata": {
    "colab": {
      "name": "Protein Structure Clustering.ipynb",
      "provenance": [],
      "collapsed_sections": []
    },
    "kernelspec": {
      "name": "python3",
      "display_name": "Python 3"
    },
    "language_info": {
      "name": "python"
    }
  },
  "cells": [
    {
      "cell_type": "code",
      "execution_count": null,
      "metadata": {
        "id": "WLmSXhBsAp7t",
        "cellView": "form",
        "colab": {
          "base_uri": "https://localhost:8080/",
          "resources": {
            "http://localhost:8080/nbextensions/google.colab/files.js": {
              "data": "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",
              "ok": true,
              "headers": [
                [
                  "content-type",
                  "application/javascript"
                ]
              ],
              "status": 200,
              "status_text": ""
            }
          },
          "height": 350
        },
        "outputId": "d7613488-4afe-49c0-cace-0ae1eb701758"
      },
      "outputs": [
        {
          "output_type": "display_data",
          "data": {
            "text/plain": [
              "<IPython.core.display.HTML object>"
            ],
            "text/html": [
              "\n",
              "     <input type=\"file\" id=\"files-3df2781e-cf07-4efc-94b2-5e369e351026\" name=\"files[]\" multiple disabled\n",
              "        style=\"border:none\" />\n",
              "     <output id=\"result-3df2781e-cf07-4efc-94b2-5e369e351026\">\n",
              "      Upload widget is only available when the cell has been executed in the\n",
              "      current browser session. Please rerun this cell to enable.\n",
              "      </output>\n",
              "      <script src=\"/nbextensions/google.colab/files.js\"></script> "
            ]
          },
          "metadata": {}
        },
        {
          "output_type": "stream",
          "name": "stdout",
          "text": [
            "Saving pdbs.zip to pdbs.zip\n",
            "[*] Installing dependencies\n",
            "--2022-07-19 01:13:48--  https://zhanggroup.org/TM-align/TMalign.cpp\n",
            "Resolving zhanggroup.org (zhanggroup.org)... 141.213.137.249\n",
            "Connecting to zhanggroup.org (zhanggroup.org)|141.213.137.249|:443... connected.\n",
            "HTTP request sent, awaiting response... 200 OK\n",
            "Length: 182097 (178K) [text/plain]\n",
            "Saving to: ‘TMalign.cpp’\n",
            "\n",
            "TMalign.cpp         100%[===================>] 177.83K   355KB/s    in 0.5s    \n",
            "\n",
            "2022-07-19 01:13:50 (355 KB/s) - ‘TMalign.cpp’ saved [182097/182097]\n",
            "\n",
            "\u001b[K     |████████████████████████████████| 88 kB 2.8 MB/s \n",
            "\u001b[K     |████████████████████████████████| 1.1 MB 26.6 MB/s \n",
            "\u001b[?25h  Building wheel for umap-learn (setup.py) ... \u001b[?25l\u001b[?25hdone\n",
            "  Building wheel for pynndescent (setup.py) ... \u001b[?25l\u001b[?25hdone\n"
          ]
        }
      ],
      "source": [
        "import os\n",
        "from zipfile import ZipFile\n",
        "from google.colab import files\n",
        "\n",
        "# delete any garbage in the environment\n",
        "os.system(\"rm -r *\")\n",
        "\n",
        "#@markdown ### Upload a zip file containing the pdb files you want to cluster.\n",
        "#@markdown **Note:**\n",
        "#@markdown - The zip file cannot contain any files that aren't valid PDB or PDBx/mmCIF files.\n",
        "#@markdown - The zip file cannot have any sub directories or folders within it.\n",
        "#@markdown - The upload will only use the first file upload, consequent files will be ignored.\n",
        "uploaded = files.upload()\n",
        "filename = list(uploaded.keys())[0]\n",
        "\n",
        "os.makedirs(\"pdbs/\", exist_ok=True)\n",
        "\n",
        "# Extract all the contents of zip file in current directory\n",
        "with ZipFile(filename) as zf:\n",
        "   zf.extractall(\"pdbs/\")\n",
        "\n",
        "# check if pdbs in sub directory\n",
        "files = os.listdir(\"pdbs\")\n",
        "if len(files) == 1 and os.path.isdir(f\"pdbs/{files[0]}\"):\n",
        "  os.system(f\"mv pdbs/{files[0]}/* pdbs\")\n",
        "  os.system(f\"rm -r pdbs/{files[0]}\")\n",
        "\n",
        "print(\"[*] Installing dependencies\")\n",
        "# download and compile TM-Align\n",
        "!wget https://zhanggroup.org/TM-align/TMalign.cpp\n",
        "!g++ -static -O3 -ffast-math -lm -o TMalign TMalign.cpp\n",
        "\n",
        "# install dependencies\n",
        "!pip install -q umap-learn"
      ]
    },
    {
      "cell_type": "code",
      "source": [
        "#@markdown ### Create the feature tensor.\n",
        "use_TM_Align = True #@param {type:\"boolean\"}\n",
        "#@markdown - Toggle whether pairwise TM-Align scores should be used as input features.\n",
        "use_RMSD = True #@param {type:\"boolean\"}\n",
        "#@markdown - Toggle whether pairwise RMSD scores should be used as input features.\n",
        "\n",
        "if not any([use_TM_Align, use_RMSD]):\n",
        "  from IPython.display import  display, HTML, IFrame\n",
        "  display(HTML(\"<h1 style='color: #ff2950'>ERROR: At least one input feature must be selected.</h1>\"))\n",
        "  raise Exception()\n",
        "\n",
        "import re, subprocess, os, json\n",
        "from datetime import datetime\n",
        "from multiprocessing import Pool\n",
        "from itertools import combinations_with_replacement as cwr\n",
        "\n",
        "### CONFIG\n",
        "INPUT_FOLDER = \"pdbs/\"\n",
        "\n",
        "def get_features(pdb_f1, pdb_f2):\n",
        "  features = {}\n",
        "  ## TM-Align Score\n",
        "  output = subprocess.check_output(f\"./TMalign {pdb_f1} {pdb_f2}\", shell=True).decode()\n",
        "  if use_RMSD:\n",
        "    features[\"tma_score\"] = float(re.findall(r\"TM-score= ([.\\d]*) \", output)[0])\n",
        "    features[\"rmsd\"] = float(re.search(r\",\\s*?RMSD=\\s*?([.\\d]*),\", output, flags=re.DOTALL).group(1))\n",
        "\n",
        "  return features\n",
        "\n",
        "\n",
        "# Create a dictionary where protein identifiers are the keys and file paths are the values.\n",
        "proteins = {}\n",
        "for filename in os.listdir(INPUT_FOLDER):\n",
        "  assert os.path.isfile(f\"{INPUT_FOLDER}/{filename}\") and filename[-4:] == \".pdb\", f\"{INPUT_FOLDER}/{filename} is NOT a valid pdb file.\"\n",
        "  # TODO: Another exception if the alignment fails or if files are not pdb files.\n",
        "  proteins[filename[:-4]] = f\"{INPUT_FOLDER}/{filename}\"\n",
        "\n",
        "# get all possible combinations\n",
        "combos = [tuple(sorted(x)) for x in cwr(proteins.keys(), 2)]\n",
        "start = datetime.now()\n",
        "print(f\"[*] Scoring {len(combos)} structure combinations ({start})\")\n",
        "\n",
        "def wrapper(combo): return get_features(proteins[combo[0]], proteins[combo[1]])\n",
        "# get TM-Align score of combinations\n",
        "with Pool(1) as p:\n",
        "  scores = p.map(wrapper, combos)\n",
        "\n",
        "combos = {c:s for c,s in zip(combos,scores)}\n",
        "end = datetime.now()\n",
        "print(f\"[*] Finished scoring at {end}, duration was ({(end-start).seconds}s)\")\n",
        "\n",
        "# create the matrix\n",
        "matrix = {}\n",
        "for t1 in proteins.keys():\n",
        "  matrix[t1] = {}\n",
        "  for t2 in proteins.keys():\n",
        "    matrix[t1][t2] = combos[tuple(sorted([t1,t2]))]\n",
        "\n",
        "# export to json\n",
        "with open(\"tm-matrix.json\", \"w\") as f:\n",
        "  json.dump(matrix, f, indent=2)\n",
        "\n",
        "\n",
        "# draw plots"
      ],
      "metadata": {
        "cellView": "form",
        "id": "hvTCEV52WN_1",
        "colab": {
          "base_uri": "https://localhost:8080/"
        },
        "outputId": "62a44200-4491-4fb3-b552-4680ecb9a5fd"
      },
      "execution_count": null,
      "outputs": [
        {
          "output_type": "stream",
          "name": "stdout",
          "text": [
            "[*] Scoring 2485 structure combinations (2022-07-19 01:14:29.827285)\n",
            "[*] Finished scoring at 2022-07-19 01:33:24.279240, duration was (1134s)\n"
          ]
        }
      ]
    },
    {
      "cell_type": "code",
      "source": [
        "#@markdown ### Configure and view your output cluster.\n",
        "cluster_algorithm = \"UMAP\" #@param [\"UMAP\", \"t-SNE\"]\n",
        "#@markdown - **UMAP** is the default option as it's much faster and tends to preserve global structure better.\n",
        "#@markdown - **t-SNE** is also available as an option and in some cases creates better projections than UMAP.\n",
        "output_dimensions = 3 #@param [\"2\", \"3\"] {type:\"raw\"}\n",
        "#@markdown - Choose a value for the output dimension (2D or 3D projection).\n",
        "\n",
        "import json, os\n",
        "import pandas as pd\n",
        "import numpy as np\n",
        "from sklearn.manifold import TSNE\n",
        "from umap import UMAP\n",
        "import plotly.express as px\n",
        "\n",
        "# read tm-score matrix file\n",
        "df = pd.read_json(\"tm-matrix.json\")\n",
        "\n",
        "features = []\n",
        "for row in df.to_numpy():\n",
        "    features.append([list(x.values()) for x in row])\n",
        "features = np.array(features)\n",
        "features = features.reshape((features.shape[0], -1))\n",
        "\n",
        "if cluster_algorithm == \"UMAP\":\n",
        "  if output_dimensions == 2:\n",
        "    proj = UMAP(n_components=2, init=\"random\", random_state=0).fit_transform(features)\n",
        "    fig = px.scatter(\n",
        "      proj,\n",
        "      x=0,\n",
        "      y=1,\n",
        "      title=\"Protein Clustering by Structural Similarity\",\n",
        "      labels={\"color\": \"# Residues\", \"0\":\"x\", \"1\":\"y\", \"2\":\"z\"},\n",
        "      hover_name=df.columns,\n",
        "      # text=df.columns,\n",
        "    )\n",
        "  else:\n",
        "    proj = UMAP(n_components=3, init=\"random\", random_state=0).fit_transform(features)\n",
        "    fig = px.scatter_3d(\n",
        "      proj,\n",
        "      x=0,\n",
        "      y=1,\n",
        "      z=2,\n",
        "      title=\"Protein Clustering by Structural Similarity\",\n",
        "      labels={\"color\": \"# Residues\", \"0\":\"x\", \"1\":\"y\", \"2\":\"z\"},\n",
        "      hover_name=df.columns,\n",
        "      # text=df.columns,\n",
        "    )\n",
        "else:\n",
        "  if output_dimensions == 2:\n",
        "    proj = TSNE(n_components=2, random_state=0).fit_transform(features)\n",
        "    fig = px.scatter(\n",
        "      proj,\n",
        "      x=0,\n",
        "      y=1,\n",
        "      title=\"Protein Clustering by Structural Similarity\",\n",
        "      labels={\"color\": \"# Residues\", \"0\":\"x\", \"1\":\"y\", \"2\":\"z\"},\n",
        "      hover_name=df.columns,\n",
        "      # text=df.columns,\n",
        "    )\n",
        "  else:\n",
        "    proj = TSNE(n_components=3, random_state=0).fit_transform(features)\n",
        "    fig = px.scatter_3d(\n",
        "      proj,\n",
        "      x=0,\n",
        "      y=1,\n",
        "      z=2,\n",
        "      title=\"Protein Clustering by Structural Similarity\",\n",
        "      labels={\"color\": \"# Residues\", \"0\":\"x\", \"1\":\"y\", \"2\":\"z\"},\n",
        "      hover_name=df.columns,\n",
        "      # text=df.columns,\n",
        "    )\n",
        "\n",
        "fig.update_layout(xaxis_title=\"\", yaxis_title=\"\")\n",
        "fig.show()"
      ],
      "metadata": {
        "cellView": "form",
        "id": "a9sN4XCpYS3P",
        "colab": {
          "base_uri": "https://localhost:8080/",
          "height": 542
        },
        "outputId": "c4ba7e85-4d3a-455e-c96b-0fe34c7ea5eb"
      },
      "execution_count": null,
      "outputs": [
        {
          "output_type": "display_data",
          "data": {
            "text/html": [
              "<html>\n",
              "<head><meta charset=\"utf-8\" /></head>\n",
              "<body>\n",
              "    <div>            <script src=\"https://cdnjs.cloudflare.com/ajax/libs/mathjax/2.7.5/MathJax.js?config=TeX-AMS-MML_SVG\"></script><script type=\"text/javascript\">if (window.MathJax) {MathJax.Hub.Config({SVG: {font: \"STIX-Web\"}});}</script>                <script type=\"text/javascript\">window.PlotlyConfig = {MathJaxConfig: 'local'};</script>\n",
              "        <script src=\"https://cdn.plot.ly/plotly-2.8.3.min.js\"></script>                <div id=\"288826be-1a36-498f-a206-46189b8ddc36\" class=\"plotly-graph-div\" style=\"height:525px; width:100%;\"></div>            <script type=\"text/javascript\">                                    window.PLOTLYENV=window.PLOTLYENV || {};                                    if (document.getElementById(\"288826be-1a36-498f-a206-46189b8ddc36\")) {                    Plotly.newPlot(                        \"288826be-1a36-498f-a206-46189b8ddc36\",                        [{\"hovertemplate\":\"<b>%{hovertext}</b><br><br>x=%{x}<br>y=%{y}<br>z=%{z}<extra></extra>\",\"hovertext\":[\"e479e053f2f8f8da284e3e40b88db8fb.result\",\"d663ca0cb08930ba07e683628325006d.result\",\"d617268ee9288d7c71ea3c8388b0ee34.result\",\"d95b8acff673425cbb3072f9941b6607.result\",\"f12204fc93bf22f90b21164acbdff76e.result\",\"db6142970e0d4cac02164002a1619436.result\",\"eaadc616d92cac26676f502a03efbc59.result\",\"e2b400de3a6c63f0802f3bc35e9540b4.result\",\"f8bd16a011896a36a4a6bffdda66accb.result\",\"e06d0a780f0ae0dcc13f637ab4273900.result\",\"d41ffbf47e56391b3103d50bad1e0141.result\",\"dec7863b973cafbe1123517070c1c009.result\",\"f4bbaeba0a7de627e5369cf45fe841f9.result\",\"eef3e6628d5bd6f25563c2de9f2a3de4.result\",\"fd5791a0bcaad4cf221f310cc598343a.result\",\"db8fd8af1d2e0553070eaa837d789baa.result\",\"eeb131c80316b570743c18da776dab3b.result\",\"dc14a19872f78caa4964094325eb613b.result\",\"fd73c5d6a508b04794873bac61727ae7.result\",\"ffb443eb5f2053f3311db14b9122105b.result\",\"dd0b482f8820a4d8de12c65fd0dc6321.result\",\"ffa8d4fc4d280a6180f4fd2fbc01995d.result\",\"e2b466d88a104287866572e58f0c3993.result\",\"e4ddba31010f6bc8804e16a08a392da3.result\",\"df7be224cd61ef2409e025aa4f2704ae.result\",\"f902fdb9c74184b435db3a579d90ef27.result\",\"f8ebe37a2297c0e92232a2bb89415c9f.result\",\"d259e32527b79da928e8238d09093f06.result\",\"fcb2d94a308a72919be7577c7af728fb.result\",\"eaa71bedadf12ef8d0efe87f1fa80645.result\",\"e8d4187719d28ae6246ce3ba27d05f1c.result\",\"ed9ad7b85a25a54c3a5b46243a1e5fe7.result\",\"e31c0128ed5bd475981c1b8bbcae890a.result\",\"e1d4fec2cca8a0b7bf76c39b1899a8b2.result\",\"db1d14be1494a70fdf3cd0dd4e31a61d.result\",\"f8584be0c5b1d1218b9ca9ae87631a27.result\",\"f167adb9fef1deda4c1023537e89f5b5.result\",\"e7c97926c8f5658b538cf993a3d09f5d.result\",\"fc9855f1d4419b69a2f7f88736441b18.result\",\"e1b814eac56af7353fa741d018f22d77.result\",\"e28707c8736bd19bf3b1c2b255f05427.result\",\"f06da9b4a75b1c8cc1660720101a1454.result\",\"e7c97d86d5bf256afee3349e3e5bec29.result\",\"d1645bf2f95cfe0b2547f0100f465520.result\",\"e6d056a4d4131c6c0173ea336c262e58.result\",\"db0bb6f5bd5ee9b2946e6ec3ee1a2729.result\",\"e89021131839e959a505d5575a9f2263.result\",\"fe27ca3d328c3de802cb37b3f3973a79.result\",\"dc6800cc9205e6311f83475627e4fbbb.result\",\"d64c3868f68467143ecb5c23517961b6.result\",\"d470072b15bac3b8f5520ec3c2958654.result\",\"d078482d9ce6267f1d65839f44f80b97.result\",\"e79da832744b449ea3504d0bafda0dba.result\",\"d358d109b0052561e929c71dd5e71f83.result\",\"fa03a31e6ce39fd91132256bbdb34d41.result\",\"e8243090a56fad8918bbb65418bdeb39.result\",\"e5ff1bab73142e8f8e1fe43bd26a97e2.result\",\"fa412014563c97306da20f7f81b9d5a3.result\",\"e93023fc01c76672efab5786cd24554c.result\",\"e9fd53408215e313ed90eabac0124150.result\",\"fc1084a5dff21ff75bd140fe3fb4bddb.result\",\"dbdfeda36eff07836d26852d56dc7ba7.result\",\"dff5d6bdc601aacbb7c2361aa799cd38.result\",\"e0ba6528084fceb13753c14100b8153c.result\",\"e4c705759fdf88a732e4581e382114ba.result\",\"e4fb53b9cb9494c876458ef45cd4f9de.result\",\"dd01687425186b2ba422d259f30afbac.result\",\"deb32eae445ea553d80cc896e5f9a10b.result\",\"f2318de42d23acc20904f131336fa04a.result\",\"dcbfb2f79e1105344c8423e4758b5b0f.result\"],\"legendgroup\":\"\",\"marker\":{\"color\":\"#636efa\",\"symbol\":\"circle\"},\"mode\":\"markers\",\"name\":\"\",\"scene\":\"scene\",\"showlegend\":false,\"x\":[7.004536151885986,8.885383605957031,10.521275520324707,8.418656349182129,10.269804954528809,9.229026794433594,11.103023529052734,9.676669120788574,11.134103775024414,11.98207950592041,8.373429298400879,10.926613807678223,10.386192321777344,10.298054695129395,9.243032455444336,10.236075401306152,10.488548278808594,9.93670654296875,8.515090942382812,9.807339668273926,8.0762357711792,10.516376495361328,11.057977676391602,12.036282539367676,10.667327880859375,9.821956634521484,11.594939231872559,12.059370994567871,11.107524871826172,9.973699569702148,7.219252586364746,7.525496006011963,8.967691421508789,7.209716320037842,10.501551628112793,11.862765312194824,7.9495673179626465,9.638437271118164,10.233562469482422,11.886244773864746,11.771370887756348,10.074853897094727,11.623616218566895,7.464847564697266,7.3920087814331055,7.207634449005127,9.89566421508789,10.406778335571289,11.307090759277344,11.215457916259766,10.015077590942383,11.166508674621582,10.112154960632324,8.392701148986816,11.08315658569336,7.895678520202637,10.448221206665039,9.675941467285156,7.760501384735107,8.654496192932129,9.85729694366455,9.130875587463379,11.50045394897461,7.2966108322143555,10.448596000671387,10.716239929199219,10.83473014831543,10.364093780517578,10.517995834350586,9.576916694641113],\"y\":[8.152751922607422,9.146915435791016,6.82422399520874,8.524822235107422,6.736567497253418,9.208000183105469,10.024080276489258,7.098217010498047,8.628303527832031,8.939813613891602,8.282722473144531,8.749493598937988,6.927009582519531,7.312571048736572,8.938481330871582,7.122026443481445,6.63763952255249,8.904374122619629,8.893080711364746,9.16460132598877,8.60888385772705,9.425127983093262,9.586146354675293,8.728880882263184,9.981040000915527,7.3490800857543945,9.534706115722656,8.885364532470703,9.61446475982666,7.046009540557861,7.925159454345703,8.612696647644043,8.90092658996582,8.300433158874512,9.913031578063965,8.615890502929688,8.389780044555664,7.312489032745361,7.843442916870117,8.857865333557129,9.474393844604492,6.491059303283691,9.3379487991333,8.295218467712402,7.818289756774902,8.163610458374023,7.135901927947998,9.370430946350098,8.974405288696289,10.084667205810547,6.837167739868164,9.81182861328125,6.514105796813965,8.640130996704102,9.326553344726562,8.757906913757324,8.588680267333984,7.124980926513672,8.318437576293945,8.94464111328125,6.918722152709961,8.67314338684082,8.91970443725586,8.146172523498535,9.237312316894531,10.041467666625977,8.987187385559082,6.57257604598999,7.304736614227295,9.08315658569336],\"z\":[12.272907257080078,10.543301582336426,14.436269760131836,12.201221466064453,15.417669296264648,10.489696502685547,11.591591835021973,14.944148063659668,12.169389724731445,11.543889999389648,12.052041053771973,12.117623329162598,15.188758850097656,14.329816818237305,10.605938911437988,14.807180404663086,14.79129409790039,12.16423225402832,11.697515487670898,11.131266593933105,11.612641334533691,10.920867919921875,11.3880615234375,11.424652099609375,10.932109832763672,13.99918270111084,11.664163589477539,11.04118537902832,10.942305564880371,15.287053108215332,12.235434532165527,11.822905540466309,10.738883972167969,11.968274116516113,11.374197959899902,11.265233993530273,12.160102844238281,14.25892448425293,13.388312339782715,11.060980796813965,11.307747840881348,15.088495254516602,11.229020118713379,11.601175308227539,12.178257942199707,12.334624290466309,14.50273609161377,11.287325859069824,11.327425956726074,11.133099555969238,14.93370246887207,11.298881530761719,15.094121932983398,11.404670715332031,11.993390083312988,11.55937671661377,12.425278663635254,14.249963760375977,12.153239250183105,10.868337631225586,14.705533027648926,11.886092185974121,12.13757610321045,12.462197303771973,11.847468376159668,11.432655334472656,11.445667266845703,15.173687934875488,13.926163673400879,10.668939590454102],\"type\":\"scatter3d\"}],                        {\"template\":{\"data\":{\"bar\":[{\"error_x\":{\"color\":\"#2a3f5f\"},\"error_y\":{\"color\":\"#2a3f5f\"},\"marker\":{\"line\":{\"color\":\"#E5ECF6\",\"width\":0.5},\"pattern\":{\"fillmode\":\"overlay\",\"size\":10,\"solidity\":0.2}},\"type\":\"bar\"}],\"barpolar\":[{\"marker\":{\"line\":{\"color\":\"#E5ECF6\",\"width\":0.5},\"pattern\":{\"fillmode\":\"overlay\",\"size\":10,\"solidity\":0.2}},\"type\":\"barpolar\"}],\"carpet\":[{\"aaxis\":{\"endlinecolor\":\"#2a3f5f\",\"gridcolor\":\"white\",\"linecolor\":\"white\",\"minorgridcolor\":\"white\",\"startlinecolor\":\"#2a3f5f\"},\"baxis\":{\"endlinecolor\":\"#2a3f5f\",\"gridcolor\":\"white\",\"linecolor\":\"white\",\"minorgridcolor\":\"white\",\"startlinecolor\":\"#2a3f5f\"},\"type\":\"carpet\"}],\"choropleth\":[{\"colorbar\":{\"outlinewidth\":0,\"ticks\":\"\"},\"type\":\"choropleth\"}],\"contour\":[{\"colorbar\":{\"outlinewidth\":0,\"ticks\":\"\"},\"colorscale\":[[0.0,\"#0d0887\"],[0.1111111111111111,\"#46039f\"],[0.2222222222222222,\"#7201a8\"],[0.3333333333333333,\"#9c179e\"],[0.4444444444444444,\"#bd3786\"],[0.5555555555555556,\"#d8576b\"],[0.6666666666666666,\"#ed7953\"],[0.7777777777777778,\"#fb9f3a\"],[0.8888888888888888,\"#fdca26\"],[1.0,\"#f0f921\"]],\"type\":\"contour\"}],\"contourcarpet\":[{\"colorbar\":{\"outlinewidth\":0,\"ticks\":\"\"},\"type\":\"contourcarpet\"}],\"heatmap\":[{\"colorbar\":{\"outlinewidth\":0,\"ticks\":\"\"},\"colorscale\":[[0.0,\"#0d0887\"],[0.1111111111111111,\"#46039f\"],[0.2222222222222222,\"#7201a8\"],[0.3333333333333333,\"#9c179e\"],[0.4444444444444444,\"#bd3786\"],[0.5555555555555556,\"#d8576b\"],[0.6666666666666666,\"#ed7953\"],[0.7777777777777778,\"#fb9f3a\"],[0.8888888888888888,\"#fdca26\"],[1.0,\"#f0f921\"]],\"type\":\"heatmap\"}],\"heatmapgl\":[{\"colorbar\":{\"outlinewidth\":0,\"ticks\":\"\"},\"colorscale\":[[0.0,\"#0d0887\"],[0.1111111111111111,\"#46039f\"],[0.2222222222222222,\"#7201a8\"],[0.3333333333333333,\"#9c179e\"],[0.4444444444444444,\"#bd3786\"],[0.5555555555555556,\"#d8576b\"],[0.6666666666666666,\"#ed7953\"],[0.7777777777777778,\"#fb9f3a\"],[0.8888888888888888,\"#fdca26\"],[1.0,\"#f0f921\"]],\"type\":\"heatmapgl\"}],\"histogram\":[{\"marker\":{\"pattern\":{\"fillmode\":\"overlay\",\"size\":10,\"solidity\":0.2}},\"type\":\"histogram\"}],\"histogram2d\":[{\"colorbar\":{\"outlinewidth\":0,\"ticks\":\"\"},\"colorscale\":[[0.0,\"#0d0887\"],[0.1111111111111111,\"#46039f\"],[0.2222222222222222,\"#7201a8\"],[0.3333333333333333,\"#9c179e\"],[0.4444444444444444,\"#bd3786\"],[0.5555555555555556,\"#d8576b\"],[0.6666666666666666,\"#ed7953\"],[0.7777777777777778,\"#fb9f3a\"],[0.8888888888888888,\"#fdca26\"],[1.0,\"#f0f921\"]],\"type\":\"histogram2d\"}],\"histogram2dcontour\":[{\"colorbar\":{\"outlinewidth\":0,\"ticks\":\"\"},\"colorscale\":[[0.0,\"#0d0887\"],[0.1111111111111111,\"#46039f\"],[0.2222222222222222,\"#7201a8\"],[0.3333333333333333,\"#9c179e\"],[0.4444444444444444,\"#bd3786\"],[0.5555555555555556,\"#d8576b\"],[0.6666666666666666,\"#ed7953\"],[0.7777777777777778,\"#fb9f3a\"],[0.8888888888888888,\"#fdca26\"],[1.0,\"#f0f921\"]],\"type\":\"histogram2dcontour\"}],\"mesh3d\":[{\"colorbar\":{\"outlinewidth\":0,\"ticks\":\"\"},\"type\":\"mesh3d\"}],\"parcoords\":[{\"line\":{\"colorbar\":{\"outlinewidth\":0,\"ticks\":\"\"}},\"type\":\"parcoords\"}],\"pie\":[{\"automargin\":true,\"type\":\"pie\"}],\"scatter\":[{\"marker\":{\"colorbar\":{\"outlinewidth\":0,\"ticks\":\"\"}},\"type\":\"scatter\"}],\"scatter3d\":[{\"line\":{\"colorbar\":{\"outlinewidth\":0,\"ticks\":\"\"}},\"marker\":{\"colorbar\":{\"outlinewidth\":0,\"ticks\":\"\"}},\"type\":\"scatter3d\"}],\"scattercarpet\":[{\"marker\":{\"colorbar\":{\"outlinewidth\":0,\"ticks\":\"\"}},\"type\":\"scattercarpet\"}],\"scattergeo\":[{\"marker\":{\"colorbar\":{\"outlinewidth\":0,\"ticks\":\"\"}},\"type\":\"scattergeo\"}],\"scattergl\":[{\"marker\":{\"colorbar\":{\"outlinewidth\":0,\"ticks\":\"\"}},\"type\":\"scattergl\"}],\"scattermapbox\":[{\"marker\":{\"colorbar\":{\"outlinewidth\":0,\"ticks\":\"\"}},\"type\":\"scattermapbox\"}],\"scatterpolar\":[{\"marker\":{\"colorbar\":{\"outlinewidth\":0,\"ticks\":\"\"}},\"type\":\"scatterpolar\"}],\"scatterpolargl\":[{\"marker\":{\"colorbar\":{\"outlinewidth\":0,\"ticks\":\"\"}},\"type\":\"scatterpolargl\"}],\"scatterternary\":[{\"marker\":{\"colorbar\":{\"outlinewidth\":0,\"ticks\":\"\"}},\"type\":\"scatterternary\"}],\"surface\":[{\"colorbar\":{\"outlinewidth\":0,\"ticks\":\"\"},\"colorscale\":[[0.0,\"#0d0887\"],[0.1111111111111111,\"#46039f\"],[0.2222222222222222,\"#7201a8\"],[0.3333333333333333,\"#9c179e\"],[0.4444444444444444,\"#bd3786\"],[0.5555555555555556,\"#d8576b\"],[0.6666666666666666,\"#ed7953\"],[0.7777777777777778,\"#fb9f3a\"],[0.8888888888888888,\"#fdca26\"],[1.0,\"#f0f921\"]],\"type\":\"surface\"}],\"table\":[{\"cells\":{\"fill\":{\"color\":\"#EBF0F8\"},\"line\":{\"color\":\"white\"}},\"header\":{\"fill\":{\"color\":\"#C8D4E3\"},\"line\":{\"color\":\"white\"}},\"type\":\"table\"}]},\"layout\":{\"annotationdefaults\":{\"arrowcolor\":\"#2a3f5f\",\"arrowhead\":0,\"arrowwidth\":1},\"autotypenumbers\":\"strict\",\"coloraxis\":{\"colorbar\":{\"outlinewidth\":0,\"ticks\":\"\"}},\"colorscale\":{\"diverging\":[[0,\"#8e0152\"],[0.1,\"#c51b7d\"],[0.2,\"#de77ae\"],[0.3,\"#f1b6da\"],[0.4,\"#fde0ef\"],[0.5,\"#f7f7f7\"],[0.6,\"#e6f5d0\"],[0.7,\"#b8e186\"],[0.8,\"#7fbc41\"],[0.9,\"#4d9221\"],[1,\"#276419\"]],\"sequential\":[[0.0,\"#0d0887\"],[0.1111111111111111,\"#46039f\"],[0.2222222222222222,\"#7201a8\"],[0.3333333333333333,\"#9c179e\"],[0.4444444444444444,\"#bd3786\"],[0.5555555555555556,\"#d8576b\"],[0.6666666666666666,\"#ed7953\"],[0.7777777777777778,\"#fb9f3a\"],[0.8888888888888888,\"#fdca26\"],[1.0,\"#f0f921\"]],\"sequentialminus\":[[0.0,\"#0d0887\"],[0.1111111111111111,\"#46039f\"],[0.2222222222222222,\"#7201a8\"],[0.3333333333333333,\"#9c179e\"],[0.4444444444444444,\"#bd3786\"],[0.5555555555555556,\"#d8576b\"],[0.6666666666666666,\"#ed7953\"],[0.7777777777777778,\"#fb9f3a\"],[0.8888888888888888,\"#fdca26\"],[1.0,\"#f0f921\"]]},\"colorway\":[\"#636efa\",\"#EF553B\",\"#00cc96\",\"#ab63fa\",\"#FFA15A\",\"#19d3f3\",\"#FF6692\",\"#B6E880\",\"#FF97FF\",\"#FECB52\"],\"font\":{\"color\":\"#2a3f5f\"},\"geo\":{\"bgcolor\":\"white\",\"lakecolor\":\"white\",\"landcolor\":\"#E5ECF6\",\"showlakes\":true,\"showland\":true,\"subunitcolor\":\"white\"},\"hoverlabel\":{\"align\":\"left\"},\"hovermode\":\"closest\",\"mapbox\":{\"style\":\"light\"},\"paper_bgcolor\":\"white\",\"plot_bgcolor\":\"#E5ECF6\",\"polar\":{\"angularaxis\":{\"gridcolor\":\"white\",\"linecolor\":\"white\",\"ticks\":\"\"},\"bgcolor\":\"#E5ECF6\",\"radialaxis\":{\"gridcolor\":\"white\",\"linecolor\":\"white\",\"ticks\":\"\"}},\"scene\":{\"xaxis\":{\"backgroundcolor\":\"#E5ECF6\",\"gridcolor\":\"white\",\"gridwidth\":2,\"linecolor\":\"white\",\"showbackground\":true,\"ticks\":\"\",\"zerolinecolor\":\"white\"},\"yaxis\":{\"backgroundcolor\":\"#E5ECF6\",\"gridcolor\":\"white\",\"gridwidth\":2,\"linecolor\":\"white\",\"showbackground\":true,\"ticks\":\"\",\"zerolinecolor\":\"white\"},\"zaxis\":{\"backgroundcolor\":\"#E5ECF6\",\"gridcolor\":\"white\",\"gridwidth\":2,\"linecolor\":\"white\",\"showbackground\":true,\"ticks\":\"\",\"zerolinecolor\":\"white\"}},\"shapedefaults\":{\"line\":{\"color\":\"#2a3f5f\"}},\"ternary\":{\"aaxis\":{\"gridcolor\":\"white\",\"linecolor\":\"white\",\"ticks\":\"\"},\"baxis\":{\"gridcolor\":\"white\",\"linecolor\":\"white\",\"ticks\":\"\"},\"bgcolor\":\"#E5ECF6\",\"caxis\":{\"gridcolor\":\"white\",\"linecolor\":\"white\",\"ticks\":\"\"}},\"title\":{\"x\":0.05},\"xaxis\":{\"automargin\":true,\"gridcolor\":\"white\",\"linecolor\":\"white\",\"ticks\":\"\",\"title\":{\"standoff\":15},\"zerolinecolor\":\"white\",\"zerolinewidth\":2},\"yaxis\":{\"automargin\":true,\"gridcolor\":\"white\",\"linecolor\":\"white\",\"ticks\":\"\",\"title\":{\"standoff\":15},\"zerolinecolor\":\"white\",\"zerolinewidth\":2}}},\"scene\":{\"domain\":{\"x\":[0.0,1.0],\"y\":[0.0,1.0]},\"xaxis\":{\"title\":{\"text\":\"x\"}},\"yaxis\":{\"title\":{\"text\":\"y\"}},\"zaxis\":{\"title\":{\"text\":\"z\"}}},\"legend\":{\"tracegroupgap\":0},\"title\":{\"text\":\"Protein Clustering by Structural Similarity\"},\"xaxis\":{\"title\":{\"text\":\"\"}},\"yaxis\":{\"title\":{\"text\":\"\"}}},                        {\"responsive\": true}                    ).then(function(){\n",
              "                            \n",
              "var gd = document.getElementById('288826be-1a36-498f-a206-46189b8ddc36');\n",
              "var x = new MutationObserver(function (mutations, observer) {{\n",
              "        var display = window.getComputedStyle(gd).display;\n",
              "        if (!display || display === 'none') {{\n",
              "            console.log([gd, 'removed!']);\n",
              "            Plotly.purge(gd);\n",
              "            observer.disconnect();\n",
              "        }}\n",
              "}});\n",
              "\n",
              "// Listen for the removal of the full notebook cells\n",
              "var notebookContainer = gd.closest('#notebook-container');\n",
              "if (notebookContainer) {{\n",
              "    x.observe(notebookContainer, {childList: true});\n",
              "}}\n",
              "\n",
              "// Listen for the clearing of the current output cell\n",
              "var outputEl = gd.closest('.output');\n",
              "if (outputEl) {{\n",
              "    x.observe(outputEl, {childList: true});\n",
              "}}\n",
              "\n",
              "                        })                };                            </script>        </div>\n",
              "</body>\n",
              "</html>"
            ]
          },
          "metadata": {}
        }
      ]
    }
  ]
}